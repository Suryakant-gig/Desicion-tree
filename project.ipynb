{
  "nbformat": 4,
  "nbformat_minor": 0,
  "metadata": {
    "colab": {
      "provenance": []
    },
    "kernelspec": {
      "name": "python3",
      "display_name": "Python 3"
    },
    "language_info": {
      "name": "python"
    }
  },
  "cells": [
    {
      "cell_type": "code",
      "source": [
        "import random\n",
        "from sklearn.tree import DecisionTreeClassifier\n",
        "import pandas as pd\n",
        "\n",
        "# Define possible inputs and outputs for Saswati's decision-making\n",
        "data = {\n",
        "    \"Mood\": [\"Happy\", \"Happy\", \"Happy\", \"Sad\", \"Sad\", \"Tired\", \"Tired\"],\n",
        "    \"Energy\": [\"High\", \"Medium\", \"Low\", \"Medium\", \"Low\", \"High\", \"Low\"],\n",
        "    \"Weather\": [\"Sunny\", \"Rainy\", \"Sunny\", \"Sunny\", \"Rainy\", \"Sunny\", \"Rainy\"],\n",
        "    \"Activity\": [\"Go for an adventure\", \"Watch a movie\", \"Read a book\",\n",
        "                 \"Listen to music\", \"Take a nap\", \"Watch a movie\", \"Netflix & Chill\"]\n",
        "}\n",
        "\n",
        "# Extra activities for when Saswati is sad (to make output random)\n",
        "sad_activities = [\"Eat some ice cream\", \"Go for a walk\", \"Call a friend\", \"Write in a journal\"]\n",
        "\n",
        "# Convert categorical data into numbers for training\n",
        "df = pd.DataFrame(data)\n",
        "df_encoded = df.copy()\n",
        "mappings = {\n",
        "    \"Mood\": {\"Happy\": 0, \"Sad\": 1, \"Tired\": 2},\n",
        "    \"Energy\": {\"High\": 0, \"Medium\": 1, \"Low\": 2},\n",
        "    \"Weather\": {\"Sunny\": 0, \"Rainy\": 1}\n",
        "}\n",
        "df_encoded.replace(mappings, inplace=True)\n",
        "\n",
        "# Define features and target\n",
        "X = df_encoded[[\"Mood\", \"Energy\", \"Weather\"]]\n",
        "y = df[\"Activity\"]\n",
        "\n",
        "# Train Decision Tree\n",
        "clf = DecisionTreeClassifier(criterion=\"entropy\", max_depth=3)\n",
        "clf.fit(X, y)\n",
        "\n",
        "# Function to predict activity based on user input\n",
        "def suggest_activity():\n",
        "    print(\"Enter Saswati's mood (Happy, Sad, Tired):\")\n",
        "    mood = input().strip().capitalize()\n",
        "    print(\"Enter Saswati's energy level (High, Medium, Low):\")\n",
        "    energy = input().strip().capitalize()\n",
        "    print(\"Enter the weather (Sunny, Rainy):\")\n",
        "    weather = input().strip().capitalize()\n",
        "\n",
        "    # Validate inputs\n",
        "    if mood not in mappings[\"Mood\"] or energy not in mappings[\"Energy\"] or weather not in mappings[\"Weather\"]:\n",
        "        print(\"Oops! Please enter valid inputs.\")\n",
        "        return\n",
        "\n",
        "    # Special case for Sad mood - random output\n",
        "    if mood == \"Sad\":\n",
        "        print(f\"Saswati should: {random.choice(sad_activities)} 😊\")\n",
        "    else:\n",
        "\n",
        "        mood_num = mappings[\"Mood\"][mood]\n",
        "        energy_num = mappings[\"Energy\"][energy]\n",
        "        weather_num = mappings[\"Weather\"][weather]\n",
        "\n",
        "\n",
        "        prediction = clf.predict([[mood_num, energy_num, weather_num]])[0]\n",
        "        print(f\"Saswati should: {prediction} 😊\")\n",
        "\n",
        "\n",
        "suggest_activity()"
      ],
      "metadata": {
        "colab": {
          "base_uri": "https://localhost:8080/"
        },
        "id": "gjtYBkhJ3FAg",
        "outputId": "fad58093-0340-4a6c-c407-485c44b32cbd"
      },
      "execution_count": null,
      "outputs": [
        {
          "output_type": "stream",
          "name": "stderr",
          "text": [
            "<ipython-input-2-1366db4a8a43>:25: FutureWarning: Downcasting behavior in `replace` is deprecated and will be removed in a future version. To retain the old behavior, explicitly call `result.infer_objects(copy=False)`. To opt-in to the future behavior, set `pd.set_option('future.no_silent_downcasting', True)`\n",
            "  df_encoded.replace(mappings, inplace=True)\n"
          ]
        },
        {
          "output_type": "stream",
          "name": "stdout",
          "text": [
            "Enter Saswati's mood (Happy, Sad, Tired):\n",
            "sad\n",
            "Enter Saswati's energy level (High, Medium, Low):\n",
            "low\n",
            "Enter the weather (Sunny, Rainy):\n",
            "sunny\n",
            "Saswati should: Go for a walk 😊\n"
          ]
        }
      ]
    }
  ]
}