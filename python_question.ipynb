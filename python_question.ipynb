{
  "nbformat": 4,
  "nbformat_minor": 0,
  "metadata": {
    "colab": {
      "provenance": [],
      "authorship_tag": "ABX9TyNtCccjX5PvZg0U2SMOsoHX",
      "include_colab_link": true
    },
    "kernelspec": {
      "name": "python3",
      "display_name": "Python 3"
    },
    "language_info": {
      "name": "python"
    }
  },
  "cells": [
    {
      "cell_type": "markdown",
      "metadata": {
        "id": "view-in-github",
        "colab_type": "text"
      },
      "source": [
        "<a href=\"https://colab.research.google.com/github/Suryakant-gig/Desicion-tree/blob/main/python_question.ipynb\" target=\"_parent\"><img src=\"https://colab.research.google.com/assets/colab-badge.svg\" alt=\"Open In Colab\"/></a>"
      ]
    },
    {
      "cell_type": "code",
      "execution_count": null,
      "metadata": {
        "colab": {
          "base_uri": "https://localhost:8080/"
        },
        "id": "7L49h06_lkhy",
        "outputId": "60e975cc-2f69-4ea2-b0f9-c6194f60decb"
      },
      "outputs": [
        {
          "output_type": "stream",
          "name": "stdout",
          "text": [
            "enter age54\n",
            "enter age7\n",
            "enter age9\n",
            "a is oldest\n"
          ]
        }
      ],
      "source": [
        "a=int(input(\"enter age\"))\n",
        "b=int(input(\"enter age\"))\n",
        "c=int(input(\"enter age\"))\n",
        "if a>b and a>c:\n",
        "    print(\"a is oldest\")\n",
        "elif b>a and b>c:\n",
        "    print(\"b is oldest\")\n",
        "else:\n",
        "    print(\"c is oldest\")"
      ]
    },
    {
      "cell_type": "code",
      "source": [],
      "metadata": {
        "id": "tZl5vpZKCd_t"
      },
      "execution_count": null,
      "outputs": []
    },
    {
      "cell_type": "code",
      "source": [
        "celsius=int(input(\"enter celsius\"))\n",
        "fahrenheit=(celsius*1.8)+32\n",
        "print(fahrenheit)"
      ],
      "metadata": {
        "colab": {
          "base_uri": "https://localhost:8080/"
        },
        "id": "sXEuOpd1oCuF",
        "outputId": "1f0bcf04-f9ba-4b2b-a498-9e085ea52078"
      },
      "execution_count": null,
      "outputs": [
        {
          "output_type": "stream",
          "name": "stdout",
          "text": [
            "enter celsius34\n",
            "93.2\n"
          ]
        }
      ]
    },
    {
      "cell_type": "code",
      "source": [
        "x=int(input(\"enter number\"))\n",
        "y=int(input(\"enter number\"))\n",
        "x=x*y\n",
        "y=x/y\n",
        "x=x/y\n",
        "print(x,y)"
      ],
      "metadata": {
        "colab": {
          "base_uri": "https://localhost:8080/"
        },
        "id": "1S294yDkp9oA",
        "outputId": "a30a5c72-3668-46e0-935b-7cbc81583b13"
      },
      "execution_count": null,
      "outputs": [
        {
          "output_type": "stream",
          "name": "stdout",
          "text": [
            "enter number34\n",
            "enter number33\n",
            "33.0 34.0\n"
          ]
        }
      ]
    },
    {
      "cell_type": "code",
      "source": [
        "num=1234\n",
        "reversed_string=0\n",
        "while num!=0:\n",
        "    remainder=num%10\n",
        "    reversed_string=(reversed_string*10)+remainder\n",
        "    num=num//10\n",
        "print(reversed_string)"
      ],
      "metadata": {
        "colab": {
          "base_uri": "https://localhost:8080/"
        },
        "id": "EZnSrwYvqy_s",
        "outputId": "aeefca0e-7a4b-4b1b-e71e-a6787cd93cc0"
      },
      "execution_count": null,
      "outputs": [
        {
          "output_type": "stream",
          "name": "stdout",
          "text": [
            "4321\n"
          ]
        }
      ]
    },
    {
      "cell_type": "code",
      "source": [
        "num=150000\n",
        "sum=0\n",
        "while num!=0:\n",
        "  remainder=num%10\n",
        "  sum=(sum)+remainder\n",
        "  num=num//10\n",
        "print(sum)"
      ],
      "metadata": {
        "colab": {
          "base_uri": "https://localhost:8080/"
        },
        "id": "PsrvABTdsXrj",
        "outputId": "86c031b3-4317-41ca-a565-f7917584805d"
      },
      "execution_count": null,
      "outputs": [
        {
          "output_type": "stream",
          "name": "stdout",
          "text": [
            "6\n"
          ]
        }
      ]
    },
    {
      "cell_type": "code",
      "source": [
        "year=int(input(\"enter year\"))\n",
        "if year%4==0 and year%100!=0:\n",
        "    print(\"leap year\")\n",
        "elif year%400==0 and year%100==0:\n",
        "    print(\"leap year\")\n",
        "else:\n",
        "    print(\"not a leap year\")"
      ],
      "metadata": {
        "id": "lPfHpnuXt4_4",
        "colab": {
          "base_uri": "https://localhost:8080/"
        },
        "outputId": "6712262b-4451-4479-f7d8-b937ec8fc10f"
      },
      "execution_count": null,
      "outputs": [
        {
          "output_type": "stream",
          "name": "stdout",
          "text": [
            "enter year2000\n",
            "leap year\n"
          ]
        }
      ]
    },
    {
      "cell_type": "code",
      "source": [
        "import numpy as np\n",
        "\n",
        "# initializing points in\n",
        "# numpy arrays\n",
        "point1 = np.array((1, 2, 3))\n",
        "point2 = np.array((1, 1, 1))\n",
        "\n",
        "# subtracting vector\n",
        "temp = point1 - point2\n",
        "\n",
        "# doing dot product\n",
        "# for finding\n",
        "# sum of the squares\n",
        "sum_sq = np.dot(temp.T, temp)\n",
        "\n",
        "# Doing squareroot and\n",
        "# printing Euclidean distance\n",
        "print(np.sqrt(sum_sq))"
      ],
      "metadata": {
        "colab": {
          "base_uri": "https://localhost:8080/"
        },
        "id": "j6I_zyxk-sXM",
        "outputId": "8806f63c-b654-454e-a0b2-192e7ef5934c"
      },
      "execution_count": null,
      "outputs": [
        {
          "output_type": "stream",
          "name": "stdout",
          "text": [
            "2.23606797749979\n"
          ]
        }
      ]
    },
    {
      "cell_type": "code",
      "source": [
        "angle1=int(input(\"enter angle\"))\n",
        "angle2=int(input(\"enter angle\"))\n",
        "angle3=int(input(\"enter angle\"))\n",
        "if angle1+angle2+angle3==180:\n",
        "    print(\"valid triangle\")\n",
        "else:\n",
        "    print(\"invalid triangle\")\n",
        "#"
      ],
      "metadata": {
        "colab": {
          "base_uri": "https://localhost:8080/"
        },
        "id": "tA9OTXxkAIZo",
        "outputId": "280d0d86-5835-461c-8a04-e38bf61bb857"
      },
      "execution_count": null,
      "outputs": [
        {
          "output_type": "stream",
          "name": "stdout",
          "text": [
            "enter angle2\n",
            "enter angle28\n",
            "enter angle150\n",
            "valid triangle\n"
          ]
        }
      ]
    },
    {
      "cell_type": "code",
      "source": [
        "buyingprice=int(input(\"enter buying price\"))\n",
        "sellingprice=int(input(\"enter selling price\"))\n",
        "if buyingprice>sellingprice:\n",
        "    print(\"loss\")\n",
        "elif buyingprice<sellingprice:\n",
        "    print(\"profit\")\n",
        "else:\n",
        "    print(\"no profit no loss\")"
      ],
      "metadata": {
        "colab": {
          "base_uri": "https://localhost:8080/"
        },
        "id": "OTwPQrXiDAKo",
        "outputId": "2baf4f87-5891-48ce-8531-e090be7e12c1"
      },
      "execution_count": null,
      "outputs": [
        {
          "output_type": "stream",
          "name": "stdout",
          "text": [
            "enter buying price180\n",
            "enter selling price190\n",
            "profit\n"
          ]
        }
      ]
    },
    {
      "cell_type": "code",
      "source": [
        "num=120000\n",
        "sum=0\n",
        "while num!=0:\n",
        "  remainder=num%10\n",
        "  sum=(sum**2)+remainder\n",
        "  num=num//10\n",
        "print(sum)"
      ],
      "metadata": {
        "id": "6rWxK5idEGoP",
        "colab": {
          "base_uri": "https://localhost:8080/"
        },
        "outputId": "c87c0d32-f784-41fe-c8c5-7d11d9e1e03f"
      },
      "execution_count": null,
      "outputs": [
        {
          "output_type": "stream",
          "name": "stdout",
          "text": [
            "5\n"
          ]
        }
      ]
    },
    {
      "cell_type": "code",
      "source": [
        "num=12\n",
        "if num%3==0 and  num%2==0:\n",
        "\n",
        " print(\"divisible by 3 and 2\")"
      ],
      "metadata": {
        "colab": {
          "base_uri": "https://localhost:8080/"
        },
        "id": "SEIcdFXKDSY_",
        "outputId": "3f01d002-8e7c-4bb4-c0db-7ad4e1f64eb8"
      },
      "execution_count": null,
      "outputs": [
        {
          "output_type": "stream",
          "name": "stdout",
          "text": [
            "divisible by 3 and 2\n"
          ]
        }
      ]
    },
    {
      "cell_type": "code",
      "source": [
        "salary=int(input(\"enter your salary\"))\n",
        "if salary<=1200000:\n",
        "  salary-=(salary/10)\n",
        "  print(salary)\n",
        "\n"
      ],
      "metadata": {
        "id": "gK8t0_cEKn0v",
        "colab": {
          "base_uri": "https://localhost:8080/"
        },
        "outputId": "441da6f1-9a26-480d-f2ca-8f93ac769299"
      },
      "execution_count": null,
      "outputs": [
        {
          "output_type": "stream",
          "name": "stdout",
          "text": [
            "enter your salary54555\n",
            "49099.5\n"
          ]
        }
      ]
    },
    {
      "cell_type": "code",
      "source": [
        "heads=int(input(\"enter heads\"))\n",
        "legs=int(input(\"enter legs\"))\n",
        "if heads==1 and legs==4:\n",
        "  print(\"dog\")\n",
        "if heads==1 and legs==2:\n",
        "  print(\"chicken\")"
      ],
      "metadata": {
        "colab": {
          "base_uri": "https://localhost:8080/"
        },
        "id": "ukX_Uu0wCryy",
        "outputId": "a8481615-bbcc-4020-a774-808aaef27f6a"
      },
      "execution_count": null,
      "outputs": [
        {
          "output_type": "stream",
          "name": "stdout",
          "text": [
            "enter heads1\n",
            "enter legs4\n",
            "dog\n"
          ]
        }
      ]
    },
    {
      "cell_type": "code",
      "source": [
        "x,y=20,45\n",
        "x=x+y\n",
        "y=x-y\n",
        "x=x-y\n",
        "print(x)\n",
        "print(y)"
      ],
      "metadata": {
        "colab": {
          "base_uri": "https://localhost:8080/"
        },
        "id": "RdYfAKylGYSM",
        "outputId": "a80c7f4b-743c-4413-c5bd-390bbe33311a"
      },
      "execution_count": null,
      "outputs": [
        {
          "output_type": "stream",
          "name": "stdout",
          "text": [
            "45\n",
            "20\n"
          ]
        }
      ]
    },
    {
      "cell_type": "code",
      "source": [
        "num=20\n",
        "sum=0\n",
        "if True:\n",
        "  while(num>=0):\n",
        "    sum+=num\n",
        "    num-=1\n",
        "\n",
        "\n",
        "print(sum)\n"
      ],
      "metadata": {
        "colab": {
          "base_uri": "https://localhost:8080/"
        },
        "id": "Q05eL5_WHq_j",
        "outputId": "267b5b0e-41fd-4b67-9f26-b1a0be807239"
      },
      "execution_count": null,
      "outputs": [
        {
          "output_type": "stream",
          "name": "stdout",
          "text": [
            "210\n"
          ]
        }
      ]
    },
    {
      "cell_type": "code",
      "source": [
        " def multiply(x, y):\n",
        "    if y < 0:\n",
        "        return -multiply(x, -y)\n",
        "    elif y == 0:\n",
        "        return 0\n",
        "    elif y == 1:\n",
        "        return x\n",
        "    else:\n",
        "        return x + multiply(x, y - 1)\n",
        "\n",
        "print(multiply(3, 5));\n"
      ],
      "metadata": {
        "colab": {
          "base_uri": "https://localhost:8080/"
        },
        "id": "IUdwLCNlOWkO",
        "outputId": "e4add7c3-aee6-4df3-d6c7-86e81680d5b3"
      },
      "execution_count": null,
      "outputs": [
        {
          "output_type": "stream",
          "name": "stdout",
          "text": [
            "15\n"
          ]
        }
      ]
    },
    {
      "cell_type": "code",
      "source": [
        "def factorial(n):\n",
        "  if n==1:\n",
        "    return 1\n",
        "  elif n>1:\n",
        "   while True:\n",
        "    return n*factorial(n-1)\n",
        "\n",
        "print(factorial(4))\n"
      ],
      "metadata": {
        "colab": {
          "base_uri": "https://localhost:8080/"
        },
        "id": "CyoYPOKJV8Md",
        "outputId": "75c76fb6-1548-4fca-9d17-3191272198ab"
      },
      "execution_count": null,
      "outputs": [
        {
          "output_type": "stream",
          "name": "stdout",
          "text": [
            "24\n"
          ]
        }
      ]
    },
    {
      "cell_type": "code",
      "source": [
        "n = int(input(\"Enter a number: \"))\n",
        "\n",
        "for i in range(1, n + 1,2):\n",
        "\n",
        "  print(i)"
      ],
      "metadata": {
        "colab": {
          "base_uri": "https://localhost:8080/"
        },
        "id": "XpvVzGCNijcc",
        "outputId": "07f32b83-93e4-45e7-8ee1-8a9d20bec168"
      },
      "execution_count": null,
      "outputs": [
        {
          "output_type": "stream",
          "name": "stdout",
          "text": [
            "Enter a number: 2\n",
            "1\n"
          ]
        }
      ]
    },
    {
      "cell_type": "code",
      "source": [
        "n = int(input(\"Enter the number of odd numbers to print: \"))\n",
        "\n",
        "for i in range(1, 2 * n, 2):\n",
        "  print(i)"
      ],
      "metadata": {
        "colab": {
          "base_uri": "https://localhost:8080/"
        },
        "id": "jSElehUJjKWq",
        "outputId": "623c2770-08e8-41c5-804b-703b91f0c514"
      },
      "execution_count": null,
      "outputs": [
        {
          "output_type": "stream",
          "name": "stdout",
          "text": [
            "Enter the number of odd numbers to print: 5\n",
            "1\n",
            "3\n",
            "5\n",
            "7\n",
            "9\n"
          ]
        }
      ]
    },
    {
      "cell_type": "code",
      "source": [
        "def prime(n):\n",
        "  if n >= 0:\n",
        "    for i in range(2, n, 1):\n",
        "\n",
        "      if n % i == 0:\n",
        "        return \"not \"  # Indicate not prime\n",
        "    return \"yes\"  # Indicate prime\n",
        "\n",
        "number = int(input(\"Enter a number: \"))\n",
        "\n",
        "# Call the prime function and print the result\n",
        "result = prime(number)\n",
        "print(f\"The number is {result}prime.\")"
      ],
      "metadata": {
        "colab": {
          "base_uri": "https://localhost:8080/"
        },
        "id": "Idpawhtxm8Ap",
        "outputId": "5f05a8cc-a873-4413-c4c7-ca7c62b66b39"
      },
      "execution_count": null,
      "outputs": [
        {
          "output_type": "stream",
          "name": "stdout",
          "text": [
            "Enter a number: 5\n",
            "The number is yesprime.\n"
          ]
        }
      ]
    },
    {
      "cell_type": "code",
      "source": [
        "def multiply(a, b):\n",
        "\n",
        "    if b < 0:\n",
        "        return -multiply(a, -b)  # Handle negative multiplier\n",
        "    elif b == 0:\n",
        "        return 0  # Handle zero multiplier\n",
        "    else:\n",
        "        result = 0\n",
        "        for i in range(b):  # Iterate 'b' times\n",
        "            result += a  # Add 'a' to the result in each iteration\n",
        "        return result\n",
        "\n",
        "# Get input from the user\n",
        "num1 = 2\n",
        "num2 = 5\n",
        "\n",
        "# Calculate and print the product\n",
        "product = multiply(num1, num2)\n",
        "print(\"The product is:\", product)"
      ],
      "metadata": {
        "colab": {
          "base_uri": "https://localhost:8080/"
        },
        "id": "V-vRQs5veXCy",
        "outputId": "2d2433ab-047b-4142-ddc7-549603a83e23"
      },
      "execution_count": null,
      "outputs": [
        {
          "output_type": "stream",
          "name": "stdout",
          "text": [
            "The product is: 10\n"
          ]
        }
      ]
    },
    {
      "cell_type": "code",
      "source": [],
      "metadata": {
        "id": "Q-ZS1bi-WPAG"
      },
      "execution_count": null,
      "outputs": []
    },
    {
      "cell_type": "code",
      "source": [
        "def is_armstrong(number):\n",
        "\n",
        "    num_str = str(number)\n",
        "    num_digits = len(num_str)\n",
        "    sum_of_cubes = sum(int(digit)**num_digits for digit in num_str)\n",
        "    return sum_of_cubes == number\n",
        "\n",
        "# Get input from the user\n",
        "number = int(input(\"Enter a number: \"))\n",
        "\n",
        "# Check if the number is an Armstrong number\n",
        "if is_armstrong(number):\n",
        "    print(f\"{number} is an Armstrong number.\")\n",
        "else:\n",
        "    print(f\"{number} is not an Armstrong number.\")"
      ],
      "metadata": {
        "colab": {
          "base_uri": "https://localhost:8080/"
        },
        "id": "KiPcF2yDi7Ie",
        "outputId": "0f5e155e-c6b3-4409-9dcf-c3940a7fcf89"
      },
      "execution_count": null,
      "outputs": [
        {
          "output_type": "stream",
          "name": "stdout",
          "text": [
            "Enter a number: 153\n",
            "153 is an Armstrong number.\n"
          ]
        }
      ]
    },
    {
      "cell_type": "code",
      "source": [
        "def is_armstrong(number):\n",
        "    num_str = str(number)\n",
        "    num_digits = len(num_str)\n",
        "    sum_of_cubes = sum(int(digit)**num_digits for digit in num_str)\n",
        "    return sum_of_cubes == number\n",
        "\n",
        "# Get the range from the user\n",
        "start_range = int(input(\"Enter the starting number of the range: \"))\n",
        "end_range = int(input(\"Enter the ending number of the range: \"))\n",
        "\n",
        "# Find and print Armstrong numbers within the range\n",
        "print(\"Armstrong numbers in the range:\")\n",
        "for number in range(start_range, end_range + 1):\n",
        "    if is_armstrong(number):\n",
        "        print(number)"
      ],
      "metadata": {
        "colab": {
          "base_uri": "https://localhost:8080/"
        },
        "id": "0pfqEVH6qjiz",
        "outputId": "9b09996c-b688-4375-e90c-ac410a24c080"
      },
      "execution_count": null,
      "outputs": [
        {
          "output_type": "stream",
          "name": "stdout",
          "text": [
            "Enter the starting number of the range: 100\n",
            "Enter the ending number of the range: 1000\n",
            "Armstrong numbers in the range:\n",
            "153\n",
            "370\n",
            "371\n",
            "407\n"
          ]
        }
      ]
    },
    {
      "cell_type": "markdown",
      "source": [],
      "metadata": {
        "id": "L2un3s-9hThV"
      }
    },
    {
      "cell_type": "code",
      "source": [
        "# Function to create combinations\n",
        "# without itertools\n",
        "def n_length_combo(lst, n):\n",
        "\n",
        "\tif n == 0:\n",
        "\t\treturn [[]]\n",
        "\n",
        "\tl =[]\n",
        "\tfor i in range(0, len(lst)):\n",
        "\n",
        "\t\tm = lst[i]\n",
        "\t\tremLst = lst[i + 1:]\n",
        "\t\tprint(remLst)\n",
        "\t\tremainlst_combo = n_length_combo(remLst, n-1)\n",
        "\t\tfor p in remainlst_combo:\n",
        "\t\t\tl.append([m, *p])\n",
        "\n",
        "\treturn l\n",
        "\n",
        "# Driver code\n",
        "if __name__==\"__main__\":\n",
        "\tarr =\"abc\"\n",
        "\tprint(n_length_combo([x for x in arr], 2))\n"
      ],
      "metadata": {
        "colab": {
          "base_uri": "https://localhost:8080/"
        },
        "id": "xQHVSet5RbzS",
        "outputId": "ad247b5d-a88a-4323-a306-14d33518b7d6"
      },
      "execution_count": null,
      "outputs": [
        {
          "output_type": "stream",
          "name": "stdout",
          "text": [
            "['b', 'c']\n",
            "['c']\n",
            "[]\n",
            "['c']\n",
            "[]\n",
            "[]\n",
            "[['a', 'b'], ['a', 'c'], ['b', 'c']]\n"
          ]
        }
      ]
    },
    {
      "cell_type": "code",
      "source": [
        "a = int(input(\"Enter the first number: \"))\n",
        "b = int(input(\"Enter the second number: \"))\n",
        "\n",
        "HCF = 1\n",
        "\n",
        "for i in range(2,a+1):\n",
        "    if(a%i==0 and b%i==0):\n",
        "        HCF = i\n",
        "\n",
        "print(\"First Number is: \",a)\n",
        "print(\"Second Number is: \",b)\n",
        "print(\"HCF of the numbers is: \",HCF)\n",
        "LCM = int((a*b)/(HCF))\n",
        "print(\"LCM of the two numbers is: \",LCM)3"
      ],
      "metadata": {
        "colab": {
          "base_uri": "https://localhost:8080/"
        },
        "id": "5x3YMxgusIly",
        "outputId": "2a3e70f5-c22a-4912-8710-777a12e6ff71"
      },
      "execution_count": null,
      "outputs": [
        {
          "output_type": "stream",
          "name": "stdout",
          "text": [
            "Enter the first number: 2\n",
            "Enter the second number: 3\n",
            "First Number is:  2\n",
            "Second Number is:  3\n",
            "HCF of the numbers is:  1\n",
            "LCM of the two numbers is:  6\n"
          ]
        }
      ]
    },
    {
      "cell_type": "code",
      "source": [
        "# Python Program to find the L.C.M. of two input number\n",
        "\n",
        "def compute_lcm(x, y):\n",
        "\n",
        "   # choose the greater number\n",
        "   if x > y:\n",
        "       greater = x\n",
        "   else:\n",
        "       greater = y\n",
        "\n",
        "   while(True):\n",
        "       if((greater % x == 0) and (greater % y == 0)):\n",
        "           lcm = greater\n",
        "           break\n",
        "       greater += 1\n",
        "\n",
        "   return lcm\n",
        "\n",
        "num1 = 54\n",
        "num2 = 24\n",
        "\n",
        "print(\"The L.C.M. is\", compute_lcm(num1, num2))"
      ],
      "metadata": {
        "id": "eEuT0PfjVbBq",
        "colab": {
          "base_uri": "https://localhost:8080/"
        },
        "outputId": "7234b925-6ecd-4b1f-8bb3-5414e10136e7"
      },
      "execution_count": null,
      "outputs": [
        {
          "output_type": "stream",
          "name": "stdout",
          "text": [
            "The L.C.M. is 216\n"
          ]
        }
      ]
    },
    {
      "cell_type": "code",
      "source": [
        "def is_prime(num):\n",
        "  \"\"\"Checks if a number is prime.\"\"\"\n",
        "  if num <= 1:\n",
        "    return False\n",
        "  for i in range(2, num ):\n",
        "    if num % i == 0:\n",
        "      return False\n",
        "  return True\n",
        "\n",
        "count = 0  # Keep track of how many primes we've found\n",
        "num = 2   # Start checking from 2\n",
        "\n",
        "while count < 20:\n",
        "  if is_prime(num):\n",
        "    print(num, end=\" \")\n",
        "    count += 1\n",
        "  num += 1"
      ],
      "metadata": {
        "colab": {
          "base_uri": "https://localhost:8080/"
        },
        "id": "XSLxtwbv6QJI",
        "outputId": "09dcfa9c-a346-4ccd-996d-4ab1f1e58807"
      },
      "execution_count": null,
      "outputs": [
        {
          "output_type": "stream",
          "name": "stdout",
          "text": [
            "2 3 5 7 11 13 17 19 23 29 31 37 41 43 47 53 59 61 67 71 "
          ]
        }
      ]
    },
    {
      "cell_type": "code",
      "source": [
        "def fib(n):\n",
        "  \"\"\"Calculates the nth Fibonacci number iteratively to avoid recursion issues.\"\"\"\n",
        "  if n <= 1:\n",
        "    return 1\n",
        "  else:\n",
        "    a, b = 1, 1  # Initialize the first two Fibonacci numbers\n",
        "    for _ in range(2, n + 1):\n",
        "      a, b = b, a + b  # Update a and b iteratively\n",
        "    return b\n",
        "\n",
        "count = 0  # Keep track of how many Fibonacci numbers we've found\n",
        "num = 1   # Start checking from 1\n",
        "\n",
        "while count < 20:\n",
        "  fib_num = fib(num)  # Calculate the Fibonacci number\n",
        "  print(fib_num, end=\" \")\n",
        "  count += 1\n",
        "  num += 1\n"
      ],
      "metadata": {
        "colab": {
          "base_uri": "https://localhost:8080/"
        },
        "id": "P3vWzm4D4V1j",
        "outputId": "491faf13-d692-4e1f-9656-6d6d869dceb8"
      },
      "execution_count": null,
      "outputs": [
        {
          "output_type": "stream",
          "name": "stdout",
          "text": [
            "1 2 3 5 8 13 21 34 55 89 144 233 377 610 987 1597 2584 4181 6765 10946 "
          ]
        }
      ]
    },
    {
      "cell_type": "code",
      "source": [
        "# Python3 program to find compound\n",
        "# interest for given values.\n",
        "\n",
        "\n",
        "def compound_interest(principal, rate, time):\n",
        "\n",
        "\t# Calculates compound interest\n",
        "\tAmount = principal * (pow((1 + rate / 100), time))\n",
        "\tCI = Amount - principal\n",
        "\tprint(\"Compound interest is\", CI)\n",
        "\n",
        "\n",
        "# Driver Code\n",
        "compound_interest(10000, 10.25, 5)\n"
      ],
      "metadata": {
        "id": "2sgmNgsrGZZw",
        "colab": {
          "base_uri": "https://localhost:8080/"
        },
        "outputId": "b7df5316-5f48-463b-d9a1-aa13573e4b38"
      },
      "execution_count": null,
      "outputs": [
        {
          "output_type": "stream",
          "name": "stdout",
          "text": [
            "Compound interest is 6288.946267774416\n"
          ]
        }
      ]
    },
    {
      "cell_type": "code",
      "source": [
        "\n",
        "num = int(input(\"Enter the number: \"))\n",
        "a = str(num)\n",
        "count = \"\"\n",
        "\n",
        "for i in range(len(a) - 1, -1, -1):  # Iterate backwards using indices\n",
        "    count += a[i]  # Access digit using index and add to count\n",
        "\n",
        "print(count)"
      ],
      "metadata": {
        "colab": {
          "base_uri": "https://localhost:8080/"
        },
        "id": "q3os_-W2CaEq",
        "outputId": "ca116bf8-fd7f-4d42-ac92-90955064b2d3"
      },
      "execution_count": null,
      "outputs": [
        {
          "output_type": "stream",
          "name": "stdout",
          "text": [
            "Enter the number: 12444\n",
            "44421\n"
          ]
        }
      ]
    },
    {
      "cell_type": "code",
      "source": [
        "s = input(\"Enter a string: \")\n",
        "\n",
        "# Initialize an empty string to hold reversed result\n",
        "rev = \"\"\n",
        "\n",
        "# Loop through each character in original string\n",
        "for ch in s:\n",
        "\n",
        "    # Add current character to front of reversed string\n",
        "    rev = ch + rev\n",
        "\n",
        "print(rev)\n",
        "\n",
        "\n"
      ],
      "metadata": {
        "colab": {
          "base_uri": "https://localhost:8080/"
        },
        "id": "TIhk6NyLEiXJ",
        "outputId": "9284ebfa-1cd2-443e-8f24-0ae7a69042ff"
      },
      "execution_count": null,
      "outputs": [
        {
          "output_type": "stream",
          "name": "stdout",
          "text": [
            "Enter a string: 12345\n",
            "54321\n"
          ]
        }
      ]
    },
    {
      "cell_type": "code",
      "source": [
        "def fac(num):\n",
        "  if num <= 1:\n",
        "    return False\n",
        "  for i in range(2, num ):\n",
        "    count=\"\"  #This string should be outside the for loop\n",
        "    if num % i == 0:\n",
        "      count+=str(i)\n",
        "      print(count)\n",
        "  return True\n",
        "\n",
        "print(fac(20))"
      ],
      "metadata": {
        "colab": {
          "base_uri": "https://localhost:8080/"
        },
        "id": "U4XXwJGXIZRo",
        "outputId": "9f5ef6eb-678c-4e1d-a549-8d2787a7c754"
      },
      "execution_count": null,
      "outputs": [
        {
          "output_type": "stream",
          "name": "stdout",
          "text": [
            "2\n",
            "4\n",
            "5\n",
            "10\n",
            "True\n"
          ]
        }
      ]
    },
    {
      "cell_type": "code",
      "source": [
        "# Function to print full pyramid pattern\n",
        "def full_pyramid(n):\n",
        "    for i in range(1, n + 1):\n",
        "        # Print leading spaces\n",
        "        for j in range(n - i):\n",
        "            print(\" \", end=\"\")\n",
        "\n",
        "\n",
        "        for k in range(1, 2*i):\n",
        "            print(\"*\", end=\"\")\n",
        "        print()\n",
        "\n",
        "full_pyramid(5)\n"
      ],
      "metadata": {
        "colab": {
          "base_uri": "https://localhost:8080/"
        },
        "id": "GJrMOsKGekZN",
        "outputId": "d28e3c8a-3e59-48c2-fa7d-496a7e7d4a6c"
      },
      "execution_count": null,
      "outputs": [
        {
          "output_type": "stream",
          "name": "stdout",
          "text": [
            "    *\n",
            "   ***\n",
            "  *****\n",
            " *******\n",
            "*********\n"
          ]
        }
      ]
    },
    {
      "cell_type": "code",
      "source": [
        "n = int(input(\"Enter the number of rows for the pyramid: \"))\n",
        "for i in range(1, n + 1):\n",
        "        # Print leading spaces\n",
        "        for j in range(1, i+1):\n",
        "            print(\"*\", end=\" \")\n",
        "        print()"
      ],
      "metadata": {
        "colab": {
          "base_uri": "https://localhost:8080/"
        },
        "id": "5WJJdWxvActP",
        "outputId": "b6a15bc7-1e7d-4ca7-f8b0-7b4febf958f2"
      },
      "execution_count": null,
      "outputs": [
        {
          "output_type": "stream",
          "name": "stdout",
          "text": [
            "Enter the number of rows for the pyramid: 4\n",
            "* \n",
            "* * \n",
            "* * * \n",
            "* * * * \n"
          ]
        }
      ]
    },
    {
      "cell_type": "code",
      "source": [
        "n = int(input(\"Enter the number of rows for the pyramid: \"))\n",
        "for i in range(1, n + 1):\n",
        "        # Print leading spaces\n",
        "        for j in range(1, 2*i+1):\n",
        "            print(\"*\", end=\" \")\n",
        "        print()"
      ],
      "metadata": {
        "colab": {
          "base_uri": "https://localhost:8080/"
        },
        "id": "XyRF-O6hGPIW",
        "outputId": "5b7098b8-9839-498d-a0e6-ac27d170689e"
      },
      "execution_count": null,
      "outputs": [
        {
          "output_type": "stream",
          "name": "stdout",
          "text": [
            "Enter the number of rows for the pyramid: 5\n",
            "* * \n",
            "* * * * \n",
            "* * * * * * \n",
            "* * * * * * * * \n",
            "* * * * * * * * * * \n"
          ]
        }
      ]
    },
    {
      "cell_type": "code",
      "source": [
        "n = int(input(\"Enter the number of rows for the pyramid: \"))\n",
        "k=1\n",
        "for i in range(1, n + 1):\n",
        "        # Print leading spaces\n",
        "        for j in range(1, k+1):\n",
        "\n",
        "            print(\"*\", end=\" \")\n",
        "        k=k+2\n",
        "        print()"
      ],
      "metadata": {
        "colab": {
          "base_uri": "https://localhost:8080/"
        },
        "id": "ynZ2m_geHme7",
        "outputId": "cf5ddc02-8c70-4472-db46-dbc250526be3"
      },
      "execution_count": null,
      "outputs": [
        {
          "output_type": "stream",
          "name": "stdout",
          "text": [
            "Enter the number of rows for the pyramid: 3\n",
            "* \n",
            "* * * \n",
            "* * * * * \n"
          ]
        }
      ]
    },
    {
      "cell_type": "code",
      "source": [
        "for i in range(4):\n",
        "  print(i)"
      ],
      "metadata": {
        "colab": {
          "base_uri": "https://localhost:8080/"
        },
        "id": "kmqBXHNLJnMO",
        "outputId": "e6b16f8a-7637-4f8a-fd26-289ab260449a"
      },
      "execution_count": null,
      "outputs": [
        {
          "output_type": "stream",
          "name": "stdout",
          "text": [
            "0\n",
            "1\n",
            "2\n",
            "3\n"
          ]
        }
      ]
    },
    {
      "cell_type": "code",
      "source": [
        "n=int(input(\"enter number\"))\n",
        "\n",
        "for i in range(0,n):\n",
        "  for j  in range(0,i):\n",
        "     print(\" \", end=\"\")\n",
        "\n",
        "\n",
        "  for j in range (0,n-i-1):\n",
        "    print (\"*\",end=\"\")\n",
        "  print()"
      ],
      "metadata": {
        "colab": {
          "base_uri": "https://localhost:8080/"
        },
        "id": "LjmNx-QmLqRm",
        "outputId": "d8e95d27-23b3-4012-bfcb-9562b43679de"
      },
      "execution_count": null,
      "outputs": [
        {
          "output_type": "stream",
          "name": "stdout",
          "text": [
            "enter number6\n",
            "*****\n",
            " ****\n",
            "  ***\n",
            "   **\n",
            "    *\n",
            "     \n"
          ]
        }
      ]
    },
    {
      "cell_type": "code",
      "source": [
        "import random\n",
        "import time\n",
        "\n",
        "def magic_8_ball():\n",
        "    responses = [\n",
        "        \"Yes, definitely!\",\n",
        "        \"Absolutely not.\",\n",
        "        \"Ask again later.\",\n",
        "        \"I have no idea.\",\n",
        "        \"My sources say no.\",\n",
        "        \"Yes, but not right now.\",\n",
        "        \"Outlook unclear, try again.\",\n",
        "        \"It is certain.\",\n",
        "        \"Very likely.\",\n",
        "        \"Don't count on it.\"\n",
        "    ]\n",
        "\n",
        "    print(\"Welcome to the Magic 8-Ball!\")\n",
        "    time.sleep(3)\n",
        "    question = input(\"Ask a yes-or-no question: \")\n",
        "\n",
        "    print(\"\\nThinking...\\n\")\n",
        "    time.sleep(2)\n",
        "    print(\"The answer is: \" + random.choice(responses))\n",
        "\n",
        "\n",
        "magic_8_ball()\n"
      ],
      "metadata": {
        "colab": {
          "base_uri": "https://localhost:8080/"
        },
        "id": "FTNNPQ3pdBwz",
        "outputId": "7046ffca-380a-4a76-cfbd-3ebcf0e0e9e2"
      },
      "execution_count": null,
      "outputs": [
        {
          "output_type": "stream",
          "name": "stdout",
          "text": [
            "Welcome to the Magic 8-Ball!\n",
            "Ask a yes-or-no question: is my sister is an angel\n",
            "\n",
            "Thinking...\n",
            "\n",
            "The answer is: Absolutely not.\n"
          ]
        }
      ]
    },
    {
      "cell_type": "code",
      "source": [
        "# Function to find the length of a string without using len()\n",
        "def find_string_length(s):\n",
        "    count = 0\n",
        "    for char in s:\n",
        "        count += 1\n",
        "    return count\n",
        "\n",
        "# Accept user input\n",
        "input_string = input(\"Enter a string: \")\n",
        "\n",
        "# Find the length of the string\n",
        "length = find_string_length(input_string)\n",
        "\n",
        "# Display the result\n",
        "print(f\"The length of the string is: {length}\")\n"
      ],
      "metadata": {
        "colab": {
          "base_uri": "https://localhost:8080/"
        },
        "id": "T44gb4xDuJuR",
        "outputId": "d26ef1c8-0dff-423f-f453-f0161dd722a2"
      },
      "execution_count": null,
      "outputs": [
        {
          "output_type": "stream",
          "name": "stdout",
          "text": [
            "Enter a string: ffffff\n",
            "The length of the string is: 6\n"
          ]
        }
      ]
    },
    {
      "cell_type": "code",
      "source": [
        "# Function to extract the username from an email address\n",
        "def extract_username(email):\n",
        "    # Split the email at '@' and return the part before it\n",
        "    username = email.split('@')[0]\n",
        "    return username\n",
        "\n",
        "# Accept user input\n",
        "email = input(\"Enter an email address: \")\n",
        "\n",
        "# Extract the username from the email\n",
        "username = extract_username(email)\n",
        "\n",
        "# Display the result\n",
        "print(f\"The username is: {username}\")\n"
      ],
      "metadata": {
        "colab": {
          "base_uri": "https://localhost:8080/"
        },
        "id": "LlM6fDaDu9mf",
        "outputId": "b2bd9488-cc62-46c8-93c5-79bfcdf696e4"
      },
      "execution_count": null,
      "outputs": [
        {
          "output_type": "stream",
          "name": "stdout",
          "text": [
            "Enter an email address: v\n",
            "The username is: v\n"
          ]
        }
      ]
    },
    {
      "cell_type": "code",
      "source": [
        "def char_frequency(text, char):\n",
        "\n",
        "  frequency = 0\n",
        "  for character in text:\n",
        "    if character == char:\n",
        "      frequency += 1\n",
        "  return frequency\n",
        "\n",
        "# Get the input string and character from the user\n",
        "input_string = input(\"Enter a string: \")\n",
        "target_char = input(\"Enter the character to count: \")\n",
        "\n",
        "# Calculate and print the frequency\n",
        "result = char_frequency(input_string, target_char)\n",
        "print(f\"The frequency of '{target_char}' in the string is: {result}\")"
      ],
      "metadata": {
        "colab": {
          "base_uri": "https://localhost:8080/"
        },
        "id": "LhNd13MnwTUF",
        "outputId": "c34cfca1-68ca-42e7-ff83-d2109db68056"
      },
      "execution_count": null,
      "outputs": [
        {
          "output_type": "stream",
          "name": "stdout",
          "text": [
            "Enter a string: surya\n",
            "Enter the character to count: s\n",
            "The frequency of 's' in the string is: 1\n"
          ]
        }
      ]
    },
    {
      "cell_type": "code",
      "source": [
        "def find(string,char):\n",
        "\n",
        "  for index,character in enumerate(string):\n",
        "    if character==char:\n",
        "      return index\n",
        "string=input(\"enter a string\")\n",
        "char=input(\"enter a character\")\n",
        "result=find(\"abcd\",\"b\")\n",
        "print(result)"
      ],
      "metadata": {
        "colab": {
          "base_uri": "https://localhost:8080/"
        },
        "id": "o_ntGiyIkwPi",
        "outputId": "8925a020-cc5c-4528-b931-2dd5c7d5a19a"
      },
      "execution_count": null,
      "outputs": [
        {
          "output_type": "stream",
          "name": "stdout",
          "text": [
            "enter a stringabcd\n",
            "enter a characterb\n",
            "1\n"
          ]
        }
      ]
    },
    {
      "cell_type": "code",
      "source": [
        "a = \"suryakant\"\n",
        "c = \"\"\n",
        "reversed_a = a[::-1]\n",
        "\n",
        "print(reversed_a)\n"
      ],
      "metadata": {
        "colab": {
          "base_uri": "https://localhost:8080/"
        },
        "id": "M3lDF56_P2c7",
        "outputId": "0d2225dd-b7c4-49f6-b0b6-fb7cb21f9c19"
      },
      "execution_count": null,
      "outputs": [
        {
          "output_type": "stream",
          "name": "stdout",
          "text": [
            "tnakayrus\n"
          ]
        }
      ]
    },
    {
      "cell_type": "code",
      "source": [
        "a = [10, 20, 4, 45, 99]\n",
        "c = a[0]  # Initialize with the first element\n",
        "for i in a:\n",
        "    if i > c:\n",
        "        c = i\n",
        "print(c)\n"
      ],
      "metadata": {
        "colab": {
          "base_uri": "https://localhost:8080/"
        },
        "id": "EzXpRElKRs9D",
        "outputId": "245c4b0e-a35c-4367-9201-a4c58e67cc2d"
      },
      "execution_count": null,
      "outputs": [
        {
          "output_type": "stream",
          "name": "stdout",
          "text": [
            "99\n"
          ]
        }
      ]
    },
    {
      "cell_type": "code",
      "source": [
        "a = [10, 20, 4, 45, 99]\n",
        "a_sorted = sorted(set(a),reverse=True)  # Remove duplicates and sort\n",
        "second_largest = a_sorted[-2]\n",
        "print(\"Second largest:\", second_largest)\n"
      ],
      "metadata": {
        "colab": {
          "base_uri": "https://localhost:8080/"
        },
        "id": "LklAm9I2UCfm",
        "outputId": "14a3dd04-68e2-41b8-af42-dfe4b5191bbd"
      },
      "execution_count": null,
      "outputs": [
        {
          "output_type": "stream",
          "name": "stdout",
          "text": [
            "Second largest: 10\n"
          ]
        }
      ]
    },
    {
      "cell_type": "code",
      "source": [
        "l1=[1,7,8,4]\n",
        "l2=[1,2,3,4]\n",
        "for i in l1:\n",
        "  for j in l2:\n",
        "    if i ==j:\n",
        "      print(i)"
      ],
      "metadata": {
        "colab": {
          "base_uri": "https://localhost:8080/"
        },
        "id": "oI9xaFnRU5Df",
        "outputId": "b249391a-5319-481a-ad1a-5eb784872000"
      },
      "execution_count": null,
      "outputs": [
        {
          "output_type": "stream",
          "name": "stdout",
          "text": [
            "1\n",
            "4\n"
          ]
        }
      ]
    },
    {
      "cell_type": "code",
      "source": [
        "import string\n",
        "\n",
        "def char_frequency(s):\n",
        "    freq = {}\n",
        "    allowed_chars = string.ascii_letters + string.digits  # Only letters and digits\n",
        "\n",
        "    for char in s:\n",
        "        if char in allowed_chars:\n",
        "            freq[char] = freq.get(char, 0) + 1\n",
        "    return freq\n",
        "\n",
        "# Example\n",
        "input_str = 'Hello World!'\n",
        "result = char_frequency(input_str)\n",
        "print(result)\n"
      ],
      "metadata": {
        "id": "bzjcZwLOYqR7",
        "outputId": "d7d93b5d-84a3-42a0-e6a1-374c80deba62",
        "colab": {
          "base_uri": "https://localhost:8080/"
        }
      },
      "execution_count": null,
      "outputs": [
        {
          "output_type": "stream",
          "name": "stdout",
          "text": [
            "{'H': 1, 'e': 1, 'l': 3, 'o': 2, 'W': 1, 'r': 1, 'd': 1}\n"
          ]
        }
      ]
    }
  ]
}